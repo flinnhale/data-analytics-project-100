{
 "cells": [
  {
   "cell_type": "markdown",
   "id": "485c9690-eea9-4385-9f21-13422337a917",
   "metadata": {},
   "source": [
    "# Проект Дашборд конверсий"
   ]
  },
  {
   "cell_type": "markdown",
   "id": "e5ae94e1-e648-4ab9-9ccb-b621062db294",
   "metadata": {},
   "source": [
    "### подключаем библиотеки"
   ]
  },
  {
   "cell_type": "code",
   "execution_count": null,
   "id": "23d151b1-82dd-4887-bda9-706f6456282c",
   "metadata": {},
   "outputs": [],
   "source": [
    "import pandas as pd\n",
    "import requests\n",
    "import matplotlib.pyplot as plt\n",
    "import seaborn as sns\n",
    "import numpy as np\n",
    "import plotly.express as px\n",
    "from dotenv import load_dotenv\n",
    "import os"
   ]
  },
  {
   "cell_type": "markdown",
   "id": "c7264e35-fbd6-487b-b4c2-e85603a10827",
   "metadata": {},
   "source": [
    "### получаем данные"
   ]
  },
  {
   "cell_type": "code",
   "execution_count": null,
   "id": "8cd0862c-cf22-418b-829a-d539566f1adf",
   "metadata": {},
   "outputs": [],
   "source": [
    "load_dotenv()\n",
    "\n",
    "# Получаем значения переменных окружения\n",
    "API_URL = os.getenv('API_URL')\n",
    "DATE_BEGIN = os.getenv('DATE_BEGIN')\n",
    "DATE_END = os.getenv('DATE_END')\n",
    "\n",
    "# Формируем URL для запросов\n",
    "url_visits = f'{API_URL}/visits?begin={DATE_BEGIN}&end={DATE_END}'\n",
    "url_registrations = f'{API_URL}/registrations?begin={DATE_BEGIN}&end={DATE_END}'\n",
    "\n",
    "# Выполняем запросы\n",
    "response_visits = requests.get(url_visits)\n",
    "data_visits = response_visits.json()\n",
    "\n",
    "response_registrations = requests.get(url_registrations)\n",
    "data_registrations = response_registrations.json()"
   ]
  },
  {
   "cell_type": "markdown",
   "id": "f292251d-d837-401c-b6d2-bc28e55d3bab",
   "metadata": {},
   "source": [
    "### изучаем данные"
   ]
  },
  {
   "cell_type": "code",
   "execution_count": null,
   "id": "af360519-de0e-4860-944c-f85a9686d190",
   "metadata": {},
   "outputs": [],
   "source": [
    "df_visits = pd.DataFrame(data_visits)\n",
    "df_visits.head(10)"
   ]
  },
  {
   "cell_type": "code",
   "execution_count": null,
   "id": "934c87e1-5723-410d-981b-4f6ef808126b",
   "metadata": {},
   "outputs": [],
   "source": [
    "df_visits.tail(10)"
   ]
  },
  {
   "cell_type": "code",
   "execution_count": null,
   "id": "94ec641d-9a19-405e-b1b8-e426f680d453",
   "metadata": {},
   "outputs": [],
   "source": [
    "df_registrations = pd.DataFrame(data_registrations)\n",
    "df_registrations.head(10)"
   ]
  },
  {
   "cell_type": "code",
   "execution_count": null,
   "id": "6e76f9c3-505d-405d-a0a8-4609d5946786",
   "metadata": {},
   "outputs": [],
   "source": [
    "df_registrations.tail(10)"
   ]
  },
  {
   "cell_type": "markdown",
   "id": "cd9e3dbb-1e1c-48f6-bce0-8454139948f4",
   "metadata": {},
   "source": [
    "### краткая сводка по данным"
   ]
  },
  {
   "cell_type": "code",
   "execution_count": null,
   "id": "8e7db25d-82a3-4261-8b4f-5032338b2240",
   "metadata": {},
   "outputs": [],
   "source": [
    "df_visits.describe()"
   ]
  },
  {
   "cell_type": "code",
   "execution_count": null,
   "id": "54c7ff1d-773c-431f-bdc2-9e18f462f0d2",
   "metadata": {},
   "outputs": [],
   "source": [
    "df_registrations.describe()"
   ]
  },
  {
   "cell_type": "markdown",
   "id": "435dca9b-85fa-4b77-b6f8-51f594cb27ff",
   "metadata": {},
   "source": [
    "### Расчет метрик"
   ]
  },
  {
   "cell_type": "code",
   "execution_count": null,
   "id": "42e9e070-682e-4e7b-8aef-448f80e1689e",
   "metadata": {},
   "outputs": [],
   "source": [
    "# Преобразуем datetime в формат даты (без времени)\n",
    "df_visits['date'] = pd.to_datetime(df_visits['datetime']).dt.date\n",
    "df_registrations['date'] = pd.to_datetime(df_registrations['datetime']).dt.date\n",
    "\n",
    "# Убираем визиты, которые были сделаны ботами\n",
    "df_visits = df_visits[~df_visits['user_agent'].str.contains('bot')]\n",
    "\n",
    "# Сгруппируем данные по дате и платформам для визитов\n",
    "df_visits = df_visits.sort_values(by=['visit_id', 'date']).drop_duplicates(subset=['visit_id'], keep='last')\n",
    "visits_grouped = df_visits.groupby(['date', 'platform']).size().reset_index(name='visits')\n",
    "\n",
    "# Сгруппируем данные регистраций по дате и платформам\n",
    "registrations_grouped = (df_registrations\n",
    "                         .groupby(['date', 'platform'])\n",
    "                         .agg(registrations=('user_id', 'count'))\n",
    "                         .reset_index())\n",
    "\n",
    "# Объединяем датафреймы визитов и регистраций\n",
    "merged_df = pd.merge(visits_grouped, registrations_grouped, on=['date', 'platform'], how='outer').fillna(0)\n",
    "\n",
    "# Рассчитаем конверсию\n",
    "merged_df['conversion'] = (merged_df['registrations'] / merged_df['visits'].replace(0, np.nan)) * 100\n",
    "\n",
    "# Приводим датафрейм в нужный формат\n",
    "merged_df['date_group'] = merged_df['date'].astype('datetime64[ms]')\n",
    "final_df = merged_df[['date_group', 'platform', 'visits', 'registrations', 'conversion']]\n",
    "\n",
    "# Сортируем данные по дате\n",
    "final_df = final_df.sort_values(by='date_group')\n",
    "\n",
    "# Сохраняем датафрейм в формате JSON\n",
    "final_df.to_json('./conversion.json')"
   ]
  },
  {
   "cell_type": "code",
   "execution_count": null,
   "id": "88697b74-514d-49bd-992b-160ef7b79e32",
   "metadata": {},
   "outputs": [],
   "source": [
    "final_df.head()"
   ]
  },
  {
   "cell_type": "code",
   "execution_count": null,
   "id": "b64f8982-5c5d-436d-8717-cec8c57d61b9",
   "metadata": {},
   "outputs": [],
   "source": [
    "final_df.tail(20)"
   ]
  },
  {
   "cell_type": "markdown",
   "id": "609c9642-9e3d-4bb3-a048-e5b5d348f75d",
   "metadata": {},
   "source": [
    "### добавляем рекламу"
   ]
  },
  {
   "cell_type": "code",
   "execution_count": null,
   "id": "59eec125-5fdd-4c0c-9100-acc1434971b7",
   "metadata": {},
   "outputs": [],
   "source": [
    "# Загрузка данных о рекламных кампаниях\n",
    "ads_df = pd.read_csv('ads.csv')"
   ]
  },
  {
   "cell_type": "code",
   "execution_count": null,
   "id": "91bb20c5-069c-4ab3-ba68-45cdfc900df3",
   "metadata": {},
   "outputs": [],
   "source": [
    "ads_df['date'] = pd.to_datetime(ads_df['date']).dt.date\n",
    "\n",
    "# Сагрегируем данные по дате и utm_campaign, суммируем затраты\n",
    "ads_grouped = (ads_df\n",
    "               .groupby(['date', 'utm_campaign'])\n",
    "               .agg(cost=('cost', 'sum'))\n",
    "               .reset_index())\n",
    "\n",
    "# Агрегируем по дате\n",
    "ads_grouped = (ads_grouped\n",
    "               .groupby('date')\n",
    "               .agg(cost=('cost', 'sum'),\n",
    "                    utm_campaign=('utm_campaign', lambda x: ', '.join(x) if not x.empty else 'none'))\n",
    "               .reset_index())\n",
    "\n",
    "# Переименуем 'date' в 'date_group'\n",
    "ads_grouped.rename(columns={'date': 'date_group'}, inplace=True)\n",
    "\n",
    "# Объединяем датафрейм с конверсиями\n",
    "final_df['date_group'] = pd.to_datetime(final_df['date_group']).dt.date\n",
    "merged_final = pd.merge(final_df.groupby('date_group').agg(\n",
    "                          visits=('visits', 'sum'),\n",
    "                          registrations=('registrations', 'sum')).reset_index(), \n",
    "                        ads_grouped, \n",
    "                        on='date_group', \n",
    "                        how='left')\n",
    "\n",
    "# Заполняем отсутствующие значения\n",
    "merged_final['utm_campaign'] = merged_final['utm_campaign'].fillna('none')\n",
    "merged_final['cost'] = merged_final['cost'].fillna(0)\n",
    "\n",
    "# Оставляем нужные колонки в итоговом датафрейме\n",
    "final_result = merged_final[['date_group', 'visits', 'registrations', 'cost', 'utm_campaign']]\n",
    "\n",
    "# Сортируем данные по date_group\n",
    "final_result = final_result.sort_values(by='date_group')\n",
    "\n",
    "# Сохраняем итоговый датафрейм в формате JSON\n",
    "final_result.to_json('./ads.json')"
   ]
  },
  {
   "cell_type": "code",
   "execution_count": null,
   "id": "6b9e6ca4-bfa4-47b8-832f-41b1b8d020ee",
   "metadata": {},
   "outputs": [],
   "source": [
    "final_result.head(10)"
   ]
  },
  {
   "cell_type": "code",
   "execution_count": null,
   "id": "9cd4e0db-e543-4477-9507-ad6e7f86608b",
   "metadata": {},
   "outputs": [],
   "source": [
    "final_result.tail(20)"
   ]
  },
  {
   "cell_type": "markdown",
   "id": "3649337f-4067-446d-8732-89874d9b7aae",
   "metadata": {},
   "source": [
    "## Визуализация"
   ]
  },
  {
   "cell_type": "markdown",
   "id": "35858905-ca20-4fb3-88da-0ecbe0af5767",
   "metadata": {},
   "source": [
    "### Итоговые визиты"
   ]
  },
  {
   "cell_type": "code",
   "execution_count": null,
   "id": "381d0b8d-4056-4a01-bb7b-2dc91f16b6f4",
   "metadata": {},
   "outputs": [],
   "source": [
    "plt.figure(figsize=(22, 10))\n",
    "bar_plot = sns.barplot(data=final_result, x='date_group', y='visits', color='skyblue')\n",
    "plt.title('Total visits')\n",
    "plt.xlabel('date_group')\n",
    "plt.ylabel('visits')\n",
    "final_result['date_group'] = pd.to_datetime(final_result['date_group'])\n",
    "monthly_ticks = final_result[final_result['date_group'].dt.is_month_start]\n",
    "monthly_ticks_positions = monthly_ticks.index\n",
    "plt.xticks(monthly_ticks_positions, labels=monthly_ticks['date_group'].dt.strftime('%Y-%m'), rotation=0, ha='left')\n",
    "for p in bar_plot.patches:\n",
    "    bar_plot.annotate(f'{int(p.get_height())}',\n",
    "                        (p.get_x() + p.get_width() / 2., p.get_height()),\n",
    "                        ha='center', va='baseline', color='black', fontsize=6, xytext=(0, 5),\n",
    "                        textcoords='offset points')\n",
    "    \n",
    "plt.tight_layout()\n",
    "plt.savefig(f'./charts/total_visits')\n",
    "plt.show()"
   ]
  },
  {
   "cell_type": "markdown",
   "id": "e216018a-eaa5-462b-9cef-256ec6769243",
   "metadata": {},
   "source": [
    "### Итоговые визиты с разбивкой по платформам"
   ]
  },
  {
   "cell_type": "code",
   "execution_count": null,
   "id": "f84b9db2-f797-4fae-ae5c-79ef982d4d1d",
   "metadata": {},
   "outputs": [],
   "source": [
    "final_df['date_group'] = pd.to_datetime(final_df['date_group'])\n",
    "\n",
    "# Сгруппируем данные по дате и платформам\n",
    "stacked_data = final_df.pivot_table(index='date_group', columns='platform', values='visits', fill_value=0)\n",
    "\n",
    "# Построим stacked bar chart\n",
    "plt.figure(figsize=(22, 10))\n",
    "stacked_data.plot(kind='bar', stacked=True, ax=plt.gca())\n",
    "\n",
    "# Настраиваем заголовки оси\n",
    "plt.title('Visits by Platform (Stacked)')\n",
    "plt.xlabel('date_group')\n",
    "plt.ylabel('visits')\n",
    "\n",
    "monthly_ticks = stacked_data.index[stacked_data.index.day == 1]  # Только первые дни месяца\n",
    "monthly_tick_positions = [stacked_data.index.get_loc(date) for date in monthly_ticks]\n",
    "plt.xticks(monthly_tick_positions, labels=monthly_ticks.strftime('%Y-%m'), rotation=0, ha='left')\n",
    "\n",
    "# Добавляем легенду\n",
    "plt.legend(title='platform', bbox_to_anchor=(0.94, 1), loc='upper left')\n",
    "\n",
    "plt.tight_layout()\n",
    "plt.savefig('./charts/total_visits_by_platform.png')\n",
    "plt.show()"
   ]
  },
  {
   "cell_type": "markdown",
   "id": "85032169-e225-4e71-9377-df868c625a76",
   "metadata": {},
   "source": [
    "### Итоговые регистрации"
   ]
  },
  {
   "cell_type": "code",
   "execution_count": null,
   "id": "80579c17-17cf-41dc-b0bc-5db613e86b37",
   "metadata": {},
   "outputs": [],
   "source": [
    "plt.figure(figsize=(22, 10))\n",
    "bar_plot = sns.barplot(data=final_result, x='date_group', y='registrations', color='skyblue')\n",
    "plt.title('Total registrations')\n",
    "plt.xlabel('date_group')\n",
    "plt.ylabel('registrations')\n",
    "final_result['date_group'] = pd.to_datetime(final_result['date_group'])\n",
    "monthly_ticks = final_result[final_result['date_group'].dt.is_month_start]\n",
    "monthly_ticks_positions = monthly_ticks.index\n",
    "plt.xticks(monthly_ticks_positions, labels=monthly_ticks['date_group'].dt.strftime('%Y-%m'), rotation=0, ha='left')\n",
    "for p in bar_plot.patches:\n",
    "    bar_plot.annotate(f'{int(p.get_height())}',\n",
    "                        (p.get_x() + p.get_width() / 2., p.get_height()),\n",
    "                        ha='center', va='baseline', color='black', fontsize=6, xytext=(0, 5),\n",
    "                        textcoords='offset points')\n",
    "    \n",
    "plt.tight_layout()\n",
    "plt.savefig(f'./charts/total_registrations')\n",
    "plt.show()"
   ]
  },
  {
   "cell_type": "markdown",
   "id": "995ac9e5-6278-406f-9872-401a4ef3abdb",
   "metadata": {},
   "source": [
    "### Итоговые регистрации с разбивкой по платформе"
   ]
  },
  {
   "cell_type": "code",
   "execution_count": null,
   "id": "982fe8d9-da4e-41c3-938a-fa4873814920",
   "metadata": {},
   "outputs": [],
   "source": [
    "final_df['date_group'] = pd.to_datetime(final_df['date_group'])\n",
    "\n",
    "# Сгруппируем данные по дате и платформам\n",
    "stacked_data = final_df.pivot_table(index='date_group', columns='platform', values='registrations', fill_value=0)\n",
    "\n",
    "# Построим stacked bar chart\n",
    "plt.figure(figsize=(22, 10))\n",
    "stacked_data.plot(kind='bar', stacked=True, ax=plt.gca())\n",
    "\n",
    "# Настраиваем заголовки оси\n",
    "plt.title('Registrations by Platform (Stacked)')\n",
    "plt.xlabel('date_group')\n",
    "plt.ylabel('visits')\n",
    "\n",
    "monthly_ticks = stacked_data.index[stacked_data.index.day == 1]  # Только первые дни месяца\n",
    "monthly_tick_positions = [stacked_data.index.get_loc(date) for date in monthly_ticks]\n",
    "plt.xticks(monthly_tick_positions, labels=monthly_ticks.strftime('%Y-%m'), rotation=0, ha='left')\n",
    "\n",
    "# Добавляем легенду\n",
    "plt.legend(title='platform', bbox_to_anchor=(0.94, 1), loc='upper left')\n",
    "\n",
    "plt.tight_layout()\n",
    "plt.savefig('./charts/total_registrations_by_platform.png')\n",
    "plt.show()"
   ]
  },
  {
   "cell_type": "markdown",
   "id": "762dd232-9007-4704-90ce-cac997291673",
   "metadata": {},
   "source": [
    "### Общая конверсия"
   ]
  },
  {
   "cell_type": "code",
   "execution_count": null,
   "id": "1610aff8-e4d8-430c-afe8-d23943cca135",
   "metadata": {},
   "outputs": [],
   "source": [
    "final_df['date_group'] = pd.to_datetime(final_df['date_group'])\n",
    "\n",
    "conversion_data = final_df.groupby('date_group')['conversion'].mean().reset_index()\n",
    "\n",
    "# Настраиваем график\n",
    "plt.figure(figsize=(22, 10))\n",
    "plt.plot(conversion_data['date_group'], conversion_data['conversion'], marker='o', linestyle='dashed')\n",
    "\n",
    "# Добавляем подписанные значения на график\n",
    "for idx, row in conversion_data.iterrows():\n",
    "    plt.text(row['date_group'], row['conversion'], f\"{row['conversion']:.2f}%\", \n",
    "             ha='center', va='bottom', fontsize=9)\n",
    "\n",
    "# Настроим заголовки и метки\n",
    "plt.title('Overall Conversion')\n",
    "plt.xlabel('Date')\n",
    "plt.ylabel('Conversion (%)')\n",
    "plt.xticks(fontsize=14)\n",
    "plt.grid()\n",
    "\n",
    "# Сохраняем и показываем график\n",
    "plt.tight_layout()\n",
    "plt.savefig('./charts/overall_conversiont.png')\n",
    "plt.show()"
   ]
  },
  {
   "cell_type": "markdown",
   "id": "b8b05aa4-88e6-4dac-b640-c4dc2d314777",
   "metadata": {},
   "source": [
    "### конверсии для каждой платформы"
   ]
  },
  {
   "cell_type": "code",
   "execution_count": null,
   "id": "461460bc-b14e-448c-a10e-15c587ceab54",
   "metadata": {},
   "outputs": [],
   "source": [
    "final_df['date_group'] = pd.to_datetime(final_df['date_group'])\n",
    "\n",
    "# Создаем сводную таблицу для получения итоговых конверсий по дням для каждой платформы\n",
    "conversion_data = final_df.groupby(['date_group', 'platform'])['conversion'].mean().reset_index()\n",
    "\n",
    "platforms = conversion_data['platform'].unique()\n",
    "\n",
    "# Настраиваем графики\n",
    "fig, axs = plt.subplots(len(platforms), 1, figsize=(12, 18))\n",
    "\n",
    "for i, platform in enumerate(platforms):\n",
    "    platform_data = conversion_data[conversion_data['platform'] == platform]\n",
    "    axs[i].plot(platform_data['date_group'], platform_data['conversion'], marker='o', color='skyblue', label='Conversion')\n",
    "\n",
    "    # Добавляем подписанные значения на график\n",
    "    for idx, row in platform_data.iterrows():\n",
    "        axs[i].text(row['date_group'], row['conversion'], f\"{row['conversion']:.2f}%\", \n",
    "                    ha='center', va='bottom', fontsize=8)\n",
    "\n",
    "    # Настроим заголовки и метки для каждого графика\n",
    "    axs[i].set_title(f'Conversion for {platform}')\n",
    "    axs[i].set_ylabel('Conversion (%)')\n",
    "    axs[i].grid()\n",
    "    axs[i].legend(title='Conversion')\n",
    "\n",
    "# Настройка оси X\n",
    "plt.xlabel('Date')\n",
    "\n",
    "plt.tight_layout()\n",
    "plt.savefig('./charts/conversion_by_platforms.png')\n",
    "plt.show()"
   ]
  },
  {
   "cell_type": "markdown",
   "id": "10592a49-8aad-4ec8-90d5-d8d898823dbd",
   "metadata": {},
   "source": [
    "### стоимости рекламы"
   ]
  },
  {
   "cell_type": "code",
   "execution_count": null,
   "id": "52e95d29-206b-40ab-a3c2-4ad28579bdc8",
   "metadata": {},
   "outputs": [],
   "source": [
    "final_result['date_group'] = pd.to_datetime(final_result['date_group'])\n",
    "\n",
    "# Настройка графика\n",
    "plt.figure(figsize=(16, 8))\n",
    "plt.plot(final_result['date_group'], final_result['cost'], marker='o', linestyle='-', color='skyblue')\n",
    "\n",
    "for idx, row in final_result.iterrows():\n",
    "    if row['cost'] == 0:\n",
    "            continue\n",
    "    plt.text(row['date_group'], row['cost'], f\"{row['cost']:.0f}RUB\", \n",
    "             ha='center', va='bottom', fontsize=8)\n",
    "\n",
    "# Добавление подписей и заголовка\n",
    "plt.title('Aggregated Ad Campaign Cost')\n",
    "plt.xlabel('Date')\n",
    "plt.ylabel('Cost(RUB)')\n",
    "plt.xticks(rotation=45)  # Поворот меток оси X для удобства чтения\n",
    "plt.grid()\n",
    "plt.tight_layout()\n",
    "\n",
    "# Сохранение и отображение графика\n",
    "plt.savefig('./charts/ad_cost.png')\n",
    "plt.show()"
   ]
  },
  {
   "cell_type": "markdown",
   "id": "c7a20739-9e9a-43ee-b56b-88713eaa9ea1",
   "metadata": {},
   "source": [
    "### Визиты за весь период с цветовым выделением рекламной кампании"
   ]
  },
  {
   "cell_type": "code",
   "execution_count": null,
   "id": "0573275a-cd07-4573-a853-c7838762c595",
   "metadata": {},
   "outputs": [],
   "source": [
    "visits_color = final_result.copy()\n",
    "visits_color['date_group'] = pd.to_datetime(visits_color['date_group'])\n",
    "\n",
    "# Создаем колонку с номерами кампаний\n",
    "visits_color['campaigns_n'] = (visits_color['utm_campaign'] != visits_color['utm_campaign'].shift()).cumsum()\n",
    "\n",
    "# Фильтруем данные, исключая строки с 'none'\n",
    "campaign_periods = (visits_color\n",
    "                    .dropna(subset=['utm_campaign'])\n",
    "                    .loc[visits_color['utm_campaign'] != 'none']  # Исключаем 'none'\n",
    "                    .groupby(['campaigns_n','utm_campaign'])\n",
    "                    .agg(start=('date_group', 'min'), finish=('date_group', 'max'))\n",
    "                    .reset_index()\n",
    "                   )\n",
    "\n",
    "# Строим график\n",
    "visits_color.plot(x='date_group', y='visits', kind='line', figsize=(16, 8), \n",
    "                  linewidth=0.8, color='black', label='visits', marker='o', markersize=5)\n",
    "plt.axhline(visits_color['visits'].mean(), linestyle='--', color='navy', label='avg_visits')\n",
    "\n",
    "# Добавляем цветные области для каждой рекламной кампании\n",
    "colors = ['salmon', 'peachpuff', 'palegreen', 'powderblue', 'thistle']\n",
    "for i, row in campaign_periods.iterrows():\n",
    "    plt.axvspan(row['start'], row['finish'], color=colors[i % len(colors)], alpha=0.3, label=row['utm_campaign'])\n",
    "\n",
    "# Оформление графика\n",
    "plt.grid(axis='y', linestyle=':', color='grey')\n",
    "plt.legend(loc='best')\n",
    "plt.title('Visits during marketing active days')\n",
    "plt.xlabel('date_group')\n",
    "plt.ylabel('visits')\n",
    "plt.tight_layout()\n",
    "plt.savefig('./charts/visits_during_campaigns.png')\n",
    "plt.show()"
   ]
  },
  {
   "cell_type": "markdown",
   "id": "73b56b37-7f8f-467d-9ef7-c08473d887b2",
   "metadata": {},
   "source": [
    "### Регистрации за весь период с цветовым выделением рекламной кампании"
   ]
  },
  {
   "cell_type": "code",
   "execution_count": null,
   "id": "ef39bc42-dcd7-436b-a32c-2f7708714f5e",
   "metadata": {},
   "outputs": [],
   "source": [
    "registrations_color = final_result.copy()\n",
    "registrations_color['date_group'] = pd.to_datetime(registrations_color['date_group'])\n",
    "\n",
    "# Создаем колонку с номерами кампаний\n",
    "registrations_color['campaigns_n'] = (registrations_color['utm_campaign'] != registrations_color['utm_campaign'].shift()).cumsum()\n",
    "\n",
    "# Фильтруем данные, исключая строки с 'none'\n",
    "campaign_periods = (registrations_color\n",
    "                    .dropna(subset=['utm_campaign'])\n",
    "                    .loc[registrations_color['utm_campaign'] != 'none']  # Исключаем 'none'\n",
    "                    .groupby(['campaigns_n','utm_campaign'])\n",
    "                    .agg(start=('date_group', 'min'), finish=('date_group', 'max'))\n",
    "                    .reset_index()\n",
    "                   )\n",
    "\n",
    "# Строим график\n",
    "registrations_color.plot(x='date_group', y='registrations', kind='line', figsize=(16, 8), \n",
    "                  linewidth=0.8, color='black', label='registrations', marker='o', markersize=5)\n",
    "plt.axhline(registrations_color['registrations'].mean(), linestyle='--', color='navy', label='avg_registrations')\n",
    "\n",
    "# Добавляем цветные области для каждой рекламной кампании\n",
    "colors = ['salmon', 'peachpuff', 'palegreen', 'powderblue', 'thistle']\n",
    "for i, row in campaign_periods.iterrows():\n",
    "    plt.axvspan(row['start'], row['finish'], color=colors[i % len(colors)], alpha=0.3, label=row['utm_campaign'])\n",
    "\n",
    "# Оформление графика\n",
    "plt.grid(axis='y', linestyle=':', color='grey')\n",
    "plt.legend(loc='best')\n",
    "plt.title('Registrations during marketing active days')\n",
    "plt.xlabel('date_group')\n",
    "plt.ylabel('registrations')\n",
    "plt.tight_layout()\n",
    "plt.savefig('./charts/registrations_during_campaigns.png')\n",
    "plt.show()"
   ]
  },
  {
   "cell_type": "markdown",
   "id": "185f5f3d-cda4-473c-a728-6a87c542ead0",
   "metadata": {},
   "source": [
    "### Зависимость посещений от рекламы"
   ]
  },
  {
   "cell_type": "code",
   "execution_count": null,
   "id": "084b4418-015a-4eaf-88a7-bb8c72bbaa9e",
   "metadata": {},
   "outputs": [],
   "source": [
    "final_result['date_group'] = pd.to_datetime(final_result['date_group'])\n",
    "fig, ax1 = plt.subplots(figsize=(22, 10))\n",
    "\n",
    "ax1.bar(final_result['date_group'], final_result['visits'], label='Total Visits', color='skyblue')\n",
    "ax1.set_xlabel('date_group')\n",
    "ax1.set_ylabel('visits')\n",
    "ax1.tick_params(axis='y')\n",
    "ax1.set_title('Total Visits and Ad Campaign Cost')\n",
    "ax1.grid(True)\n",
    "\n",
    "ax2 = ax1.twinx()\n",
    "ax2.plot(final_result['date_group'], final_result['cost'], color='red', label='Ad Campaign Cost')\n",
    "ax2.set_ylabel('Cost (RUB)')\n",
    "ax2.tick_params(axis='y')\n",
    "plt.savefig('./charts/total_visits_and_ad_campaign_cost.png')\n",
    "plt.show()"
   ]
  },
  {
   "cell_type": "markdown",
   "id": "7e2ebf4d-2a1d-4739-9e12-7563cb198a79",
   "metadata": {},
   "source": [
    "### Зависимость регистраций от рекламы"
   ]
  },
  {
   "cell_type": "code",
   "execution_count": null,
   "id": "00f80dcf-1bb1-45f2-9a05-374cd9fad78a",
   "metadata": {},
   "outputs": [],
   "source": [
    "final_result['date_group'] = pd.to_datetime(final_result['date_group'])\n",
    "fig, ax1 = plt.subplots(figsize=(22, 10))\n",
    "\n",
    "ax1.bar(final_result['date_group'], final_result['registrations'], label='Total Registrations', color='palegreen')\n",
    "ax1.set_xlabel('date_group')\n",
    "ax1.set_ylabel('registrations')\n",
    "ax1.tick_params(axis='y')\n",
    "ax1.set_title('Total Registrations and Ad Campaign Cost')\n",
    "ax1.grid(True)\n",
    "\n",
    "ax2 = ax1.twinx()\n",
    "ax2.plot(final_result['date_group'], final_result['cost'], color='red', label='Ad Campaign Cost')\n",
    "ax2.set_ylabel('Cost (RUB)')\n",
    "ax2.tick_params(axis='y')\n",
    "plt.savefig('./charts/total_registrations_and_ad_campaign_cost.png')\n",
    "plt.show()"
   ]
  }
 ],
 "metadata": {
  "kernelspec": {
   "display_name": "Python 3 (ipykernel)",
   "language": "python",
   "name": "python3"
  },
  "language_info": {
   "codemirror_mode": {
    "name": "ipython",
    "version": 3
   },
   "file_extension": ".py",
   "mimetype": "text/x-python",
   "name": "python",
   "nbconvert_exporter": "python",
   "pygments_lexer": "ipython3",
   "version": "3.11.11"
  }
 },
 "nbformat": 4,
 "nbformat_minor": 5
}
